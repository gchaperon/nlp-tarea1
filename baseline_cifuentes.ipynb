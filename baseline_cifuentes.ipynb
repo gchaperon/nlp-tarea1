{
 "cells": [
  {
   "cell_type": "markdown",
   "metadata": {
    "ExecuteTime": {
     "end_time": "2019-08-21T19:18:43.301002Z",
     "start_time": "2019-08-21T19:18:43.298037Z"
    }
   },
   "source": [
    "# Baseline tarea 1\n",
    "\n",
    "-----------------------------\n",
    "\n",
    "\n",
    "\n",
    "\n",
    "## Importar librerías y utiles"
   ]
  },
  {
   "cell_type": "code",
   "execution_count": 177,
   "metadata": {
    "ExecuteTime": {
     "end_time": "2019-08-21T19:45:52.624502Z",
     "start_time": "2019-08-21T19:45:48.613907Z"
    }
   },
   "outputs": [],
   "source": [
    "import os\n",
    "import copy\n",
    "import random\n",
    "import shutil\n",
    "import numpy as np\n",
    "import pandas as pd\n",
    "\n",
    "from sklearn.model_selection import StratifiedKFold, cross_val_score\n",
    "from sklearn.ensemble import BaggingClassifier, AdaBoostClassifier\n",
    "from sklearn.feature_extraction.text import CountVectorizer\n",
    "from nltk.tokenize.casual import TweetTokenizer\n",
    "from sklearn.svm import SVC\n",
    "from sklearn.naive_bayes import MultinomialNB\n",
    "from sklearn.pipeline import Pipeline\n",
    "from sklearn.metrics import (confusion_matrix,\n",
    "                             cohen_kappa_score,\n",
    "                             classification_report,\n",
    "                             accuracy_score,\n",
    "                             roc_auc_score,\n",
    "                             make_scorer)\n",
    "from sklearn.model_selection import train_test_split\n",
    "\n",
    "from utils import auc \n",
    "\n",
    "\n"
   ]
  },
  {
   "cell_type": "code",
   "execution_count": 167,
   "metadata": {},
   "outputs": [],
   "source": [
    "# setear semillas\n",
    "SEED = 8080\n",
    "random.seed(SEED)\n",
    "np.random.seed(SEED)"
   ]
  },
  {
   "cell_type": "markdown",
   "metadata": {},
   "source": [
    "## Datos\n",
    "\n",
    "### Obtener los datasets desde el github del curso"
   ]
  },
  {
   "cell_type": "code",
   "execution_count": 168,
   "metadata": {
    "ExecuteTime": {
     "end_time": "2019-08-21T19:45:55.819485Z",
     "start_time": "2019-08-21T19:45:52.626520Z"
    }
   },
   "outputs": [],
   "source": [
    "base_url = 'https://raw.githubusercontent.com/dccuchile/CC6205/master/assignments/assignment_1/data'\n",
    "col_names = ['id', 'tweet', 'class', 'sentiment_intensity']\n",
    "sentiments = ['anger', 'fear', 'joy', 'sadness']\n",
    "split_names = ['train', 'target']\n",
    "train, target = [\n",
    "    {\n",
    "        sentiment : pd.read_csv(\n",
    "            f\"{base_url}/{split_name}/{sentiment}-{split_name}.txt\",\n",
    "            sep='\\t',\n",
    "            names=col_names\n",
    "        )\n",
    "        for sentiment in sentiments\n",
    "    }\n",
    "    for split_name in split_names\n",
    "]"
   ]
  },
  {
   "cell_type": "markdown",
   "metadata": {},
   "source": [
    "### Analizar los datos \n",
    "\n",
    "Imprimir la cantidad de tweets de cada dataset, según su intensidad de sentimiento"
   ]
  },
  {
   "cell_type": "code",
   "execution_count": 169,
   "metadata": {
    "ExecuteTime": {
     "end_time": "2019-08-21T19:45:55.879257Z",
     "start_time": "2019-08-21T19:45:55.826364Z"
    }
   },
   "outputs": [
    {
     "name": "stdout",
     "output_type": "stream",
     "text": [
      "anger \n",
      "                       id  tweet  class\n",
      "sentiment_intensity                   \n",
      "high                 163    163    163\n",
      "low                  161    161    161\n",
      "medium               617    617    617\n",
      "fear \n",
      "                       id  tweet  class\n",
      "sentiment_intensity                   \n",
      "high                 270    270    270\n",
      "low                  288    288    288\n",
      "medium               699    699    699\n",
      "joy \n",
      "                       id  tweet  class\n",
      "sentiment_intensity                   \n",
      "high                 195    195    195\n",
      "low                  219    219    219\n",
      "medium               488    488    488\n",
      "sadness \n",
      "                       id  tweet  class\n",
      "sentiment_intensity                   \n",
      "high                 197    197    197\n",
      "low                  210    210    210\n",
      "medium               453    453    453\n"
     ]
    }
   ],
   "source": [
    "def get_group_dist(group_name, train):\n",
    "    print(group_name, \"\\n\",\n",
    "          train[group_name].groupby('sentiment_intensity').count())\n",
    "\n",
    "\n",
    "for key in train:\n",
    "    get_group_dist(key, train)"
   ]
  },
  {
   "cell_type": "code",
   "execution_count": 170,
   "metadata": {},
   "outputs": [],
   "source": [
    "def fair_sampling(train, rs):\n",
    "    new_train = copy.deepcopy(train)\n",
    "    intensities = ['high', 'medium', 'low']\n",
    "    for key in new_train:\n",
    "        cants = np.array([new_train[key]['id'][new_train[key].sentiment_intensity == tens].count()\n",
    "                          for tens in intensities])\n",
    "        max_who = intensities[list(cants).index(cants.max())]\n",
    "        new_max = int((cants.mean() - cants.max()/3) * 3/2)\n",
    "        # Aqui estan los reducidos reducidos\n",
    "        max_sample = new_train[key][new_train[key].sentiment_intensity == max_who].sample(new_max, random_state = rs)\n",
    "        the_rest = new_train[key][new_train[key].sentiment_intensity != max_who].copy()\n",
    "        all_data = the_rest.append(max_sample, ignore_index = True)\n",
    "        new_train[key] = all_data\n",
    "    return new_train"
   ]
  },
  {
   "cell_type": "code",
   "execution_count": 171,
   "metadata": {},
   "outputs": [
    {
     "name": "stdout",
     "output_type": "stream",
     "text": [
      "anger \n",
      "                       id  tweet  class\n",
      "sentiment_intensity                   \n",
      "high                 163    163    163\n",
      "low                  161    161    161\n",
      "medium               162    162    162\n",
      "fear \n",
      "                       id  tweet  class\n",
      "sentiment_intensity                   \n",
      "high                 270    270    270\n",
      "low                  288    288    288\n",
      "medium               279    279    279\n",
      "joy \n",
      "                       id  tweet  class\n",
      "sentiment_intensity                   \n",
      "high                 195    195    195\n",
      "low                  219    219    219\n",
      "medium               207    207    207\n",
      "sadness \n",
      "                       id  tweet  class\n",
      "sentiment_intensity                   \n",
      "high                 197    197    197\n",
      "low                  210    210    210\n",
      "medium               203    203    203\n"
     ]
    }
   ],
   "source": [
    "new_train = fair_sampling(train, 8080)\n",
    "for key in new_train:\n",
    "    get_group_dist(key, new_train)"
   ]
  },
  {
   "cell_type": "markdown",
   "metadata": {},
   "source": [
    "## Clasificar"
   ]
  },
  {
   "cell_type": "markdown",
   "metadata": {},
   "source": [
    "### Dividir el dataset en entrenamiento y prueba"
   ]
  },
  {
   "cell_type": "code",
   "execution_count": 172,
   "metadata": {
    "ExecuteTime": {
     "end_time": "2019-08-21T19:45:55.901161Z",
     "start_time": "2019-08-21T19:45:55.893181Z"
    }
   },
   "outputs": [],
   "source": [
    "def split_dataset(dataset):\n",
    "    # Dividir el dataset en train set y test set\n",
    "    X_train, X_test, y_train, y_test = train_test_split(\n",
    "        dataset.tweet,\n",
    "        dataset.sentiment_intensity,\n",
    "        shuffle=True,\n",
    "        test_size=0.25,\n",
    "        random_state=8080,\n",
    "    )\n",
    "    return X_train, X_test, y_train, y_test"
   ]
  },
  {
   "cell_type": "markdown",
   "metadata": {},
   "source": [
    "### Definir el clasificador\n",
    "\n",
    "Consejo para el vectorizador: investigar los modulos de `nltk`, en particular, `TweetTokenizer`, `mark_negation`. También, el parámetro ngram_range para clasificadores no bayesianos.\n",
    "\n",
    "Consejo para el clasificador: investigar otros clasificadores mas efectivos que naive bayes. Ojo q naive bayes no debería usarse con n-gramas, ya que rompe el supuesto de independencia.\n"
   ]
  },
  {
   "cell_type": "code",
   "execution_count": 182,
   "metadata": {
    "ExecuteTime": {
     "end_time": "2019-08-21T19:50:52.114345Z",
     "start_time": "2019-08-21T19:50:52.110384Z"
    }
   },
   "outputs": [],
   "source": [
    "# Definimos el pipeline con el vectorizador y el clasificador.\n",
    " \n",
    "vectorizer = CountVectorizer(tokenizer=TweetTokenizer().tokenize, ngram_range=(1, 4))\n",
    "\n",
    "\n",
    "def get_bagging(base = SVC(kernel = 'linear', probability = True), n_est = 10, vect = vectorizer):\n",
    "    # Inicializamos el Clasificador.\n",
    "    classifier = BaggingClassifier(base_estimator = base, n_estimators = n_est)\n",
    "    \n",
    "    # Establecer el pipeline.\n",
    "    text_clf = Pipeline([('vect', vect), ('clf', classifier)])\n",
    "    return text_clf\n",
    "\n",
    "\n",
    "def get_ada(base = SVC(kernel = 'linear', probability = True), n_est = 50, vect = vectorizer):    \n",
    "    # Inicializamos el Clasificador.\n",
    "    classifier = AdaBoostClassifier(base_estimator = base, n_estimators = n_est)\n",
    "    \n",
    "    # Establecer el pipeline.\n",
    "    text_clf = Pipeline([('vect', vect), ('clf', classifier)])\n",
    "    return text_clf\n",
    "\n",
    "\n",
    "def get_baseline(base = SVC(kernel = 'linear', probability = True, C = 1000), vect = vectorizer):\n",
    "    # Inicializamos el Clasificador.\n",
    "    classifier = base    \n",
    "    # Establecer el pipeline.\n",
    "    text_clf = Pipeline([('vect', vect), ('clf', classifier)])\n",
    "    return text_clf\n"
   ]
  },
  {
   "cell_type": "markdown",
   "metadata": {},
   "source": [
    "### Definir evaluación\n",
    "\n",
    "Esta función imprime la matriz de confusión, el reporte de clasificación y las metricas usadas en la competencia:\n",
    "\n",
    "\n",
    "- `auc`\n",
    "- `kappa`\n",
    "- `accuracy`"
   ]
  },
  {
   "cell_type": "code",
   "execution_count": 183,
   "metadata": {
    "ExecuteTime": {
     "end_time": "2019-08-21T19:53:24.009626Z",
     "start_time": "2019-08-21T19:53:24.002646Z"
    }
   },
   "outputs": [],
   "source": [
    "def evaulate(predicted, y_test, labels):\n",
    "    # Importante: al transformar los arreglos de probabilidad a clases,\n",
    "    # entregar el arreglo de clases aprendido por el clasificador. \n",
    "    # (que comunmente, es distinto a ['low', 'medium', 'high'])\n",
    "    predicted_labels = [labels[np.argmax(item)] for item in predicted]\n",
    "    \n",
    "    # Confusion Matrix\n",
    "    print('Confusion Matrix for {}:\\n'.format(key))\n",
    "\n",
    "    # Classification Report\n",
    "    print(\n",
    "        confusion_matrix(y_test,\n",
    "                         predicted_labels,\n",
    "                         labels=['low', 'medium', 'high']))\n",
    "\n",
    "    print('\\nClassification Report')\n",
    "    print(\n",
    "        classification_report(y_test,\n",
    "                              predicted_labels,\n",
    "                              labels=['low', 'medium', 'high']))\n",
    "\n",
    "    # AUC\n",
    "    print(\"auc: \", auc(y_test, predicted))\n",
    "\n",
    "    # Kappa\n",
    "    print(\"kappa:\", cohen_kappa_score(y_test, predicted_labels))\n",
    "\n",
    "    # Accuracy\n",
    "    print(\"accuracy:\", accuracy_score(y_test, predicted_labels), \"\\n\")\n",
    "\n",
    "    print('------------------------------------------------------\\n\\n')"
   ]
  },
  {
   "cell_type": "markdown",
   "metadata": {},
   "source": [
    "### Ejecutar el clasificador para cierto dataset\n",
    "\n",
    "Clasifica un dataset. Retorna el modelo ya entrenado mas sus labels asociadas.\n"
   ]
  },
  {
   "cell_type": "code",
   "execution_count": 184,
   "metadata": {
    "ExecuteTime": {
     "end_time": "2019-08-21T19:53:25.978116Z",
     "start_time": "2019-08-21T19:53:25.973129Z"
    },
    "scrolled": true
   },
   "outputs": [],
   "source": [
    "def classify(dataset, key):\n",
    "\n",
    "    X_train, X_test, y_train, y_test = split_dataset(dataset)\n",
    "    text_clf = get_bagging()\n",
    "    skf = StratifiedKFold(n_splits = 5, shuffle = True)\n",
    "    print(\"Empieza Cross Validation\")\n",
    "    scores = cross_val_score(text_clf, X_train, y_train, cv = skf, scoring = make_scorer(cohen_kappa_score))\n",
    "    print(f\"Resultados CV: Cohen-Kappa {scores.mean()} +/- {scores.std()**2}\")\n",
    "    # Entrenar el clasificador\n",
    "    text_clf.fit(X_train, y_train)\n",
    "\n",
    "    # Predecir las probabilidades de intensidad de cada elemento del set de prueba.\n",
    "    predicted = text_clf.predict_proba(X_test)\n",
    "\n",
    "    # Obtener las clases aprendidas.\n",
    "    learned_labels = text_clf.classes_\n",
    "\n",
    "    # Evaluar\n",
    "    evaulate(predicted, y_test, learned_labels)\n",
    "    return text_clf, learned_labels"
   ]
  },
  {
   "cell_type": "markdown",
   "metadata": {},
   "source": [
    "### Ejecutar el clasificador por cada dataset\n"
   ]
  },
  {
   "cell_type": "code",
   "execution_count": 185,
   "metadata": {
    "ExecuteTime": {
     "end_time": "2019-08-21T19:53:27.106461Z",
     "start_time": "2019-08-21T19:53:26.933924Z"
    }
   },
   "outputs": [
    {
     "name": "stdout",
     "output_type": "stream",
     "text": [
      "Empieza Cross Validation\n",
      "Resultados CV: Cohen-Kappa 0.25131358504484547 +/- 0.0021460170682884487\n",
      "Confusion Matrix for anger:\n",
      "\n",
      "[[19 24  1]\n",
      " [ 5 26  9]\n",
      " [ 5 13 20]]\n",
      "\n",
      "Classification Report\n",
      "              precision    recall  f1-score   support\n",
      "\n",
      "         low       0.66      0.43      0.52        44\n",
      "      medium       0.41      0.65      0.50        40\n",
      "        high       0.67      0.53      0.59        38\n",
      "\n",
      "    accuracy                           0.53       122\n",
      "   macro avg       0.58      0.54      0.54       122\n",
      "weighted avg       0.58      0.53      0.54       122\n",
      "\n",
      "auc:  0.3924660904868822\n",
      "kappa: 0.30096501809408926\n",
      "accuracy: 0.5327868852459017 \n",
      "\n",
      "------------------------------------------------------\n",
      "\n",
      "\n",
      "Empieza Cross Validation\n",
      "Resultados CV: Cohen-Kappa 0.2418688685660924 +/- 0.002343108933976248\n",
      "Confusion Matrix for fear:\n",
      "\n",
      "[[41 21 16]\n",
      " [22 28 18]\n",
      " [ 7 19 38]]\n",
      "\n",
      "Classification Report\n",
      "              precision    recall  f1-score   support\n",
      "\n",
      "         low       0.59      0.53      0.55        78\n",
      "      medium       0.41      0.41      0.41        68\n",
      "        high       0.53      0.59      0.56        64\n",
      "\n",
      "    accuracy                           0.51       210\n",
      "   macro avg       0.51      0.51      0.51       210\n",
      "weighted avg       0.51      0.51      0.51       210\n",
      "\n",
      "auc:  0.3916005998631891\n",
      "kappa: 0.26448585418933634\n",
      "accuracy: 0.5095238095238095 \n",
      "\n",
      "------------------------------------------------------\n",
      "\n",
      "\n",
      "Empieza Cross Validation\n",
      "Resultados CV: Cohen-Kappa 0.30623391204730604 +/- 0.0017583854628369648\n",
      "Confusion Matrix for joy:\n",
      "\n",
      "[[43  8  5]\n",
      " [24 20  7]\n",
      " [11  8 30]]\n",
      "\n",
      "Classification Report\n",
      "              precision    recall  f1-score   support\n",
      "\n",
      "         low       0.55      0.77      0.64        56\n",
      "      medium       0.56      0.39      0.46        51\n",
      "        high       0.71      0.61      0.66        49\n",
      "\n",
      "    accuracy                           0.60       156\n",
      "   macro avg       0.61      0.59      0.59       156\n",
      "weighted avg       0.60      0.60      0.59       156\n",
      "\n",
      "auc:  0.36695180468544947\n",
      "kappa: 0.3885778275475924\n",
      "accuracy: 0.5961538461538461 \n",
      "\n",
      "------------------------------------------------------\n",
      "\n",
      "\n",
      "Empieza Cross Validation\n",
      "Resultados CV: Cohen-Kappa 0.18600229284260172 +/- 0.007693249700830571\n",
      "Confusion Matrix for sadness:\n",
      "\n",
      "[[39  5 10]\n",
      " [28  1 20]\n",
      " [18  2 30]]\n",
      "\n",
      "Classification Report\n",
      "              precision    recall  f1-score   support\n",
      "\n",
      "         low       0.46      0.72      0.56        54\n",
      "      medium       0.12      0.02      0.04        49\n",
      "        high       0.50      0.60      0.55        50\n",
      "\n",
      "    accuracy                           0.46       153\n",
      "   macro avg       0.36      0.45      0.38       153\n",
      "weighted avg       0.37      0.46      0.39       153\n",
      "\n",
      "auc:  0.36058350840380154\n",
      "kappa: 0.1768328255655668\n",
      "accuracy: 0.45751633986928103 \n",
      "\n",
      "------------------------------------------------------\n",
      "\n",
      "\n"
     ]
    }
   ],
   "source": [
    "classifiers = []\n",
    "learned_labels_array = []\n",
    "\n",
    "# Por cada llave en train ('anger', 'fear', 'joy', 'sadness')\n",
    "for key in new_train:\n",
    "    classifier, learned_labels = classify(new_train[key], key)\n",
    "    classifiers.append(classifier)\n",
    "    learned_labels_array.append(learned_labels)"
   ]
  },
  {
   "cell_type": "markdown",
   "metadata": {
    "ExecuteTime": {
     "end_time": "2019-08-21T19:37:43.169737Z",
     "start_time": "2019-08-21T19:37:43.166744Z"
    }
   },
   "source": [
    "## Predecir target set"
   ]
  },
  {
   "cell_type": "code",
   "execution_count": null,
   "metadata": {
    "ExecuteTime": {
     "end_time": "2019-08-21T19:50:59.474909Z",
     "start_time": "2019-08-21T19:50:59.469921Z"
    }
   },
   "outputs": [],
   "source": [
    "def predict_target(dataset, classifier, labels):\n",
    "    # Predecir las probabilidades de intensidad de cada elemento del target set.\n",
    "    predicted = pd.DataFrame(classifier.predict_proba(dataset.tweet), columns=labels)\n",
    "    # Agregar ids\n",
    "    predicted['id'] = dataset.id.values\n",
    "    # Reordenar\n",
    "    predicted = predicted[['id', 'low', 'medium', 'high']]\n",
    "    return predicted"
   ]
  },
  {
   "cell_type": "markdown",
   "metadata": {},
   "source": [
    "### Ejecutar la predicción y guardar archivos."
   ]
  },
  {
   "cell_type": "code",
   "execution_count": null,
   "metadata": {
    "ExecuteTime": {
     "end_time": "2019-08-21T20:00:10.724762Z",
     "start_time": "2019-08-21T20:00:10.576665Z"
    },
    "scrolled": true
   },
   "outputs": [],
   "source": [
    "predicted_target = {}\n",
    "\n",
    "if (not os.path.isdir('./predictions')):\n",
    "    os.mkdir('./predictions')\n",
    "\n",
    "else:\n",
    "    # Eliminar predicciones anteriores:\n",
    "    shutil.rmtree('./predictions')\n",
    "    os.mkdir('./predictions')\n",
    "\n",
    "for idx, key in enumerate(target):\n",
    "    # Predecir el target set\n",
    "    predicted_target[key] = predict_target(target[key], classifiers[idx],\n",
    "                                           learned_labels_array[idx])\n",
    "    # Guardar predicciones\n",
    "    predicted_target[key].to_csv('./predictions/{}-pred.txt'.format(key),\n",
    "                                 sep='\\t',\n",
    "                                 header=False,\n",
    "                                 index=False)\n",
    "\n",
    "# Crear archivo zip\n",
    "a = shutil.make_archive('predictions', 'zip', './predictions')"
   ]
  },
  {
   "cell_type": "code",
   "execution_count": null,
   "metadata": {},
   "outputs": [],
   "source": []
  },
  {
   "cell_type": "code",
   "execution_count": null,
   "metadata": {},
   "outputs": [],
   "source": []
  }
 ],
 "metadata": {
  "kernelspec": {
   "display_name": "Python 3",
   "language": "python",
   "name": "python3"
  },
  "language_info": {
   "codemirror_mode": {
    "name": "ipython",
    "version": 3
   },
   "file_extension": ".py",
   "mimetype": "text/x-python",
   "name": "python",
   "nbconvert_exporter": "python",
   "pygments_lexer": "ipython3",
   "version": "3.7.4"
  },
  "toc": {
   "base_numbering": 1,
   "nav_menu": {},
   "number_sections": true,
   "sideBar": true,
   "skip_h1_title": true,
   "title_cell": "Table of Contents",
   "title_sidebar": "Contents",
   "toc_cell": true,
   "toc_position": {},
   "toc_section_display": true,
   "toc_window_display": false
  },
  "varInspector": {
   "cols": {
    "lenName": 16,
    "lenType": 16,
    "lenVar": 40
   },
   "kernels_config": {
    "python": {
     "delete_cmd_postfix": "",
     "delete_cmd_prefix": "del ",
     "library": "var_list.py",
     "varRefreshCmd": "print(var_dic_list())"
    },
    "r": {
     "delete_cmd_postfix": ") ",
     "delete_cmd_prefix": "rm(",
     "library": "var_list.r",
     "varRefreshCmd": "cat(var_dic_list()) "
    }
   },
   "types_to_exclude": [
    "module",
    "function",
    "builtin_function_or_method",
    "instance",
    "_Feature"
   ],
   "window_display": false
  }
 },
 "nbformat": 4,
 "nbformat_minor": 2
}
